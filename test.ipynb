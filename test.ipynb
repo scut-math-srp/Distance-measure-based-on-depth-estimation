{
  "cells": [
    {
      "cell_type": "markdown",
      "source": "# Test Units",
      "metadata": {
        "tags": [],
        "cell_id": "00000-79ea93e5-78e0-46ea-b823-d5097db3a5f6",
        "deepnote_cell_type": "markdown"
      }
    },
    {
      "cell_type": "markdown",
      "source": "## 1. MonoDepth2 Test",
      "metadata": {
        "tags": [],
        "cell_id": "00001-c29731d5-d7d8-42de-9a39-9a1f354d829c",
        "deepnote_cell_type": "markdown"
      }
    },
    {
      "cell_type": "code",
      "metadata": {
        "tags": [],
        "cell_id": "00002-a206d93e-43fb-45ee-a297-3b4b58d3dfe3",
        "deepnote_to_be_reexecuted": false,
        "source_hash": "b1e2ffd2",
        "execution_millis": 2041,
        "execution_start": 1615308300710,
        "deepnote_cell_type": "code"
      },
      "source": "from monodepth2.obtain_depth import get_depth\n\nimg_path = 'demo.jpg'\nget_depth(img_path)",
      "execution_count": 4,
      "outputs": [
        {
          "output_type": "execute_result",
          "execution_count": 4,
          "data": {
            "text/plain": "array([[3.7960877 , 3.8333719 , 3.9044616 , ..., 3.9827223 , 3.941572  ,\n        3.8918982 ],\n       [3.7973783 , 3.8374    , 3.9090786 , ..., 3.9938498 , 3.9530113 ,\n        3.9031355 ],\n       [3.7692945 , 3.8102767 , 3.879538  , ..., 3.99468   , 3.9535506 ,\n        3.9023507 ],\n       ...,\n       [0.89018023, 0.89081436, 0.8856955 , ..., 0.66968954, 0.6637128 ,\n        0.6575925 ],\n       [0.88891256, 0.88966656, 0.8846178 , ..., 0.66923547, 0.6632782 ,\n        0.65711015],\n       [0.88794255, 0.88875836, 0.883599  , ..., 0.66875386, 0.6628259 ,\n        0.6567285 ]], dtype=float32)"
          },
          "metadata": {}
        }
      ]
    },
    {
      "cell_type": "markdown",
      "source": "## 2.MegaDepth Test",
      "metadata": {
        "tags": [],
        "cell_id": "00003-5047bc81-fab4-404c-8bb5-5c55eab70d21",
        "deepnote_cell_type": "markdown"
      }
    },
    {
      "cell_type": "code",
      "metadata": {
        "tags": [],
        "cell_id": "00003-b7db46a9-b613-4212-a864-2e08c1f69f1b",
        "deepnote_to_be_reexecuted": false,
        "source_hash": "f4ca2ddb",
        "execution_millis": 523,
        "execution_start": 1615308395342,
        "deepnote_cell_type": "code"
      },
      "source": "from MegaDepth.obtain_depth import get_depth\n\nimg_path = 'demo.jpg'\nget_depth(img_path)",
      "execution_count": 9,
      "outputs": [
        {
          "name": "stderr",
          "text": "/shared-libs/python3.8/py/lib/python3.8/site-packages/torch/cuda/__init__.py:52: UserWarning: CUDA initialization: Found no NVIDIA driver on your system. Please check that you have an NVIDIA GPU and installed a driver from http://www.nvidia.com/Download/index.aspx (Triggered internally at  /pytorch/c10/cuda/CUDAFunctions.cpp:100.)\n  return torch._C._cuda_getDeviceCount() > 0\nusage: ipykernel_launcher.py [-h] [--batchSize BATCHSIZE]\n                             [--loadSize LOADSIZE] [--fineSize FINESIZE]\n                             [--input_nc INPUT_NC] [--output_nc OUTPUT_NC]\n                             [--ngf NGF] [--ndf NDF]\n                             [--which_model_netG WHICH_MODEL_NETG]\n                             [--gpu_ids GPU_IDS] [--name NAME] [--model MODEL]\n                             [--nThreads NTHREADS]\n                             [--checkpoints_dir CHECKPOINTS_DIR] [--norm NORM]\n                             [--serial_batches]\n                             [--display_winsize DISPLAY_WINSIZE]\n                             [--display_id DISPLAY_ID] [--identity IDENTITY]\n                             [--use_dropout]\n                             [--max_dataset_size MAX_DATASET_SIZE]\n                             [--display_freq DISPLAY_FREQ]\n                             [--print_freq PRINT_FREQ]\n                             [--save_latest_freq SAVE_LATEST_FREQ]\n                             [--save_epoch_freq SAVE_EPOCH_FREQ]\n                             [--continue_train] [--phase PHASE]\n                             [--which_epoch WHICH_EPOCH] [--niter NITER]\n                             [--niter_decay NITER_DECAY] [--beta1 BETA1]\n                             [--lr LR] [--no_lsgan] [--lambda_A LAMBDA_A]\n                             [--lambda_B LAMBDA_B] [--pool_size POOL_SIZE]\n                             [--no_html] [--no_flip]\nipykernel_launcher.py: error: unrecognized arguments: -f /root/.local/share/jupyter/runtime/kernel-0debb2f6-4be3-4519-84a3-56a2ed0292d8.json\n",
          "output_type": "stream"
        },
        {
          "output_type": "error",
          "ename": "SystemExit",
          "evalue": "2",
          "traceback": [
            "An exception has occurred, use %tb to see the full traceback.\n",
            "\u001b[0;31mSystemExit\u001b[0m\u001b[0;31m:\u001b[0m 2\n"
          ],
          "text": "/shared-libs/python3.8/py/lib/python3.8/site-packages/torch/cuda/__init__.py:52: UserWarning: CUDA initialization: Found no NVIDIA driver on your system. Please check that you have an NVIDIA GPU and installed a driver from http://www.nvidia.com/Download/index.aspx (Triggered internally at  /pytorch/c10/cuda/CUDAFunctions.cpp:100.)\n  return torch._C._cuda_getDeviceCount() > 0\nusage: ipykernel_launcher.py [-h] [--batchSize BATCHSIZE]\n                             [--loadSize LOADSIZE] [--fineSize FINESIZE]\n                             [--input_nc INPUT_NC] [--output_nc OUTPUT_NC]\n                             [--ngf NGF] [--ndf NDF]\n                             [--which_model_netG WHICH_MODEL_NETG]\n                             [--gpu_ids GPU_IDS] [--name NAME] [--model MODEL]\n                             [--nThreads NTHREADS]\n                             [--checkpoints_dir CHECKPOINTS_DIR] [--norm NORM]\n                             [--serial_batches]\n                             [--display_winsize DISPLAY_WINSIZE]\n                             [--display_id DISPLAY_ID] [--identity IDENTITY]\n                             [--use_dropout]\n                             [--max_dataset_size MAX_DATASET_SIZE]\n                             [--display_freq DISPLAY_FREQ]\n                             [--print_freq PRINT_FREQ]\n                             [--save_latest_freq SAVE_LATEST_FREQ]\n                             [--save_epoch_freq SAVE_EPOCH_FREQ]\n                             [--continue_train] [--phase PHASE]\n                             [--which_epoch WHICH_EPOCH] [--niter NITER]\n                             [--niter_decay NITER_DECAY] [--beta1 BETA1]\n                             [--lr LR] [--no_lsgan] [--lambda_A LAMBDA_A]\n                             [--lambda_B LAMBDA_B] [--pool_size POOL_SIZE]\n                             [--no_html] [--no_flip]\nipykernel_launcher.py: error: unrecognized arguments: -f /root/.local/share/jupyter/runtime/kernel-0debb2f6-4be3-4519-84a3-56a2ed0292d8.json\n/shared-libs/python3.8/py-core/lib/python3.8/site-packages/IPython/core/interactiveshell.py:3445: UserWarning: To exit: use 'exit', 'quit', or Ctrl-D.\n  warn(\"To exit: use 'exit', 'quit', or Ctrl-D.\", stacklevel=1)\n"
        }
      ]
    },
    {
      "cell_type": "code",
      "source": "",
      "metadata": {
        "tags": [],
        "cell_id": "00005-7971682c-fe6d-4d32-b504-595ba8beebae",
        "deepnote_cell_type": "code"
      },
      "outputs": [],
      "execution_count": null
    },
    {
      "cell_type": "markdown",
      "source": "<a style='text-decoration:none;line-height:16px;display:flex;color:#5B5B62;padding:10px;justify-content:end;' href='https://deepnote.com?utm_source=created-in-deepnote-cell&projectId=89f4e793-d986-4dd1-9864-fa5d90e698b6' target=\"_blank\">\n<img style='display:inline;max-height:16px;margin:0px;margin-right:7.5px;' src='data:image/svg+xml;base64,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' > </img>\nCreated in <span style='font-weight:600;margin-left:4px;'>Deepnote</span></a>",
      "metadata": {
        "tags": [],
        "created_in_deepnote_cell": true,
        "deepnote_cell_type": "markdown"
      }
    }
  ],
  "nbformat": 4,
  "nbformat_minor": 2,
  "metadata": {
    "orig_nbformat": 2,
    "deepnote_notebook_id": "dd908ce2-cd99-4284-8e88-309afdd2b24e",
    "deepnote": {},
    "deepnote_execution_queue": []
  }
}